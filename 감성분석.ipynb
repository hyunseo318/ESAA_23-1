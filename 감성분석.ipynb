{
  "nbformat": 4,
  "nbformat_minor": 0,
  "metadata": {
    "colab": {
      "provenance": [],
      "mount_file_id": "1ylaJYMSXU1F3-_ASl03Ybwep4Q5mbOj5",
      "authorship_tag": "ABX9TyP4tKlFYoVoLUCF2uN5gifu"
    },
    "kernelspec": {
      "name": "python3",
      "display_name": "Python 3"
    },
    "language_info": {
      "name": "python"
    }
  },
  "cells": [
    {
      "cell_type": "markdown",
      "source": [
        "##**05. 감성 분석**\n"
      ],
      "metadata": {
        "id": "sqm1t5FwwsFe"
      }
    },
    {
      "cell_type": "markdown",
      "source": [
        "###**감성 분석 소개**\n",
        "**감성분석(Sentiment Analysis)**: 문서의 주관적인 감성/의견/감정/지분 등을 파악하기 위한 방법으로 소셜미디어, 여론조사, 온라인 리뷰, 피드백 등 다양한 분야에서 활용\n",
        "- 문서 내 텍스트가 나타내는 여러가지 주관적인 단어와 문맥을 기반으로 감성(Sentiment)수치를 계산하는 방법을 이용\n",
        "- 긍정 감성 지수 / 부정 감성 지수\n",
        "- 지도학습 / 비지도학습\n",
        "  - 지도학습 : 학습 데이터와 타깃 레이블 값을 기반으로 감성 분석 학습을 수행한 뒤 이를 기반으로 다른 데이터의 감성 분석을 예측하는 방법으로 일반적인 텍스트 기반의 분류와 거의 동일\n",
        "  - 비지도학습 : 'Lexicon'이라는 일종의 감성 어휘 사전을 이용한다. 감성 분석을 위한 용어와 문맥에 대한 다양한 정보를 가지고 있으며, 이를 이용해 문서의 긍정적, 부정적 감성 여부를 판단"
      ],
      "metadata": {
        "id": "I7JxbCTpwxy0"
      }
    },
    {
      "cell_type": "markdown",
      "source": [
        "### **지도학습 기반 감성 분석 실습 - IMDB 영화평**\n",
        "https://www.kaggle.com/competitions/word2vec-nlp-tutorial/data\n"
      ],
      "metadata": {
        "id": "OqYUkvjgz5ZQ"
      }
    },
    {
      "cell_type": "code",
      "execution_count": 7,
      "metadata": {
        "colab": {
          "base_uri": "https://localhost:8080/",
          "height": 143
        },
        "id": "-OSwkWArwqDp",
        "outputId": "415c53d9-6712-49e8-ad12-38d640845661"
      },
      "outputs": [
        {
          "output_type": "execute_result",
          "data": {
            "text/plain": [
              "         id  sentiment                                             review\n",
              "0  \"5814_8\"          1  \"With all this stuff going down at the moment ...\n",
              "1  \"2381_9\"          1  \"\\\"The Classic War of the Worlds\\\" by Timothy ...\n",
              "2  \"7759_3\"          0  \"The film starts with a manager (Nicholas Bell..."
            ],
            "text/html": [
              "\n",
              "  <div id=\"df-c83e14ea-7c56-4a6e-956c-08b3794dad9b\">\n",
              "    <div class=\"colab-df-container\">\n",
              "      <div>\n",
              "<style scoped>\n",
              "    .dataframe tbody tr th:only-of-type {\n",
              "        vertical-align: middle;\n",
              "    }\n",
              "\n",
              "    .dataframe tbody tr th {\n",
              "        vertical-align: top;\n",
              "    }\n",
              "\n",
              "    .dataframe thead th {\n",
              "        text-align: right;\n",
              "    }\n",
              "</style>\n",
              "<table border=\"1\" class=\"dataframe\">\n",
              "  <thead>\n",
              "    <tr style=\"text-align: right;\">\n",
              "      <th></th>\n",
              "      <th>id</th>\n",
              "      <th>sentiment</th>\n",
              "      <th>review</th>\n",
              "    </tr>\n",
              "  </thead>\n",
              "  <tbody>\n",
              "    <tr>\n",
              "      <th>0</th>\n",
              "      <td>\"5814_8\"</td>\n",
              "      <td>1</td>\n",
              "      <td>\"With all this stuff going down at the moment ...</td>\n",
              "    </tr>\n",
              "    <tr>\n",
              "      <th>1</th>\n",
              "      <td>\"2381_9\"</td>\n",
              "      <td>1</td>\n",
              "      <td>\"\\\"The Classic War of the Worlds\\\" by Timothy ...</td>\n",
              "    </tr>\n",
              "    <tr>\n",
              "      <th>2</th>\n",
              "      <td>\"7759_3\"</td>\n",
              "      <td>0</td>\n",
              "      <td>\"The film starts with a manager (Nicholas Bell...</td>\n",
              "    </tr>\n",
              "  </tbody>\n",
              "</table>\n",
              "</div>\n",
              "      <button class=\"colab-df-convert\" onclick=\"convertToInteractive('df-c83e14ea-7c56-4a6e-956c-08b3794dad9b')\"\n",
              "              title=\"Convert this dataframe to an interactive table.\"\n",
              "              style=\"display:none;\">\n",
              "        \n",
              "  <svg xmlns=\"http://www.w3.org/2000/svg\" height=\"24px\"viewBox=\"0 0 24 24\"\n",
              "       width=\"24px\">\n",
              "    <path d=\"M0 0h24v24H0V0z\" fill=\"none\"/>\n",
              "    <path d=\"M18.56 5.44l.94 2.06.94-2.06 2.06-.94-2.06-.94-.94-2.06-.94 2.06-2.06.94zm-11 1L8.5 8.5l.94-2.06 2.06-.94-2.06-.94L8.5 2.5l-.94 2.06-2.06.94zm10 10l.94 2.06.94-2.06 2.06-.94-2.06-.94-.94-2.06-.94 2.06-2.06.94z\"/><path d=\"M17.41 7.96l-1.37-1.37c-.4-.4-.92-.59-1.43-.59-.52 0-1.04.2-1.43.59L10.3 9.45l-7.72 7.72c-.78.78-.78 2.05 0 2.83L4 21.41c.39.39.9.59 1.41.59.51 0 1.02-.2 1.41-.59l7.78-7.78 2.81-2.81c.8-.78.8-2.07 0-2.86zM5.41 20L4 18.59l7.72-7.72 1.47 1.35L5.41 20z\"/>\n",
              "  </svg>\n",
              "      </button>\n",
              "      \n",
              "  <style>\n",
              "    .colab-df-container {\n",
              "      display:flex;\n",
              "      flex-wrap:wrap;\n",
              "      gap: 12px;\n",
              "    }\n",
              "\n",
              "    .colab-df-convert {\n",
              "      background-color: #E8F0FE;\n",
              "      border: none;\n",
              "      border-radius: 50%;\n",
              "      cursor: pointer;\n",
              "      display: none;\n",
              "      fill: #1967D2;\n",
              "      height: 32px;\n",
              "      padding: 0 0 0 0;\n",
              "      width: 32px;\n",
              "    }\n",
              "\n",
              "    .colab-df-convert:hover {\n",
              "      background-color: #E2EBFA;\n",
              "      box-shadow: 0px 1px 2px rgba(60, 64, 67, 0.3), 0px 1px 3px 1px rgba(60, 64, 67, 0.15);\n",
              "      fill: #174EA6;\n",
              "    }\n",
              "\n",
              "    [theme=dark] .colab-df-convert {\n",
              "      background-color: #3B4455;\n",
              "      fill: #D2E3FC;\n",
              "    }\n",
              "\n",
              "    [theme=dark] .colab-df-convert:hover {\n",
              "      background-color: #434B5C;\n",
              "      box-shadow: 0px 1px 3px 1px rgba(0, 0, 0, 0.15);\n",
              "      filter: drop-shadow(0px 1px 2px rgba(0, 0, 0, 0.3));\n",
              "      fill: #FFFFFF;\n",
              "    }\n",
              "  </style>\n",
              "\n",
              "      <script>\n",
              "        const buttonEl =\n",
              "          document.querySelector('#df-c83e14ea-7c56-4a6e-956c-08b3794dad9b button.colab-df-convert');\n",
              "        buttonEl.style.display =\n",
              "          google.colab.kernel.accessAllowed ? 'block' : 'none';\n",
              "\n",
              "        async function convertToInteractive(key) {\n",
              "          const element = document.querySelector('#df-c83e14ea-7c56-4a6e-956c-08b3794dad9b');\n",
              "          const dataTable =\n",
              "            await google.colab.kernel.invokeFunction('convertToInteractive',\n",
              "                                                     [key], {});\n",
              "          if (!dataTable) return;\n",
              "\n",
              "          const docLinkHtml = 'Like what you see? Visit the ' +\n",
              "            '<a target=\"_blank\" href=https://colab.research.google.com/notebooks/data_table.ipynb>data table notebook</a>'\n",
              "            + ' to learn more about interactive tables.';\n",
              "          element.innerHTML = '';\n",
              "          dataTable['output_type'] = 'display_data';\n",
              "          await google.colab.output.renderOutput(dataTable, element);\n",
              "          const docLink = document.createElement('div');\n",
              "          docLink.innerHTML = docLinkHtml;\n",
              "          element.appendChild(docLink);\n",
              "        }\n",
              "      </script>\n",
              "    </div>\n",
              "  </div>\n",
              "  "
            ]
          },
          "metadata": {},
          "execution_count": 7
        }
      ],
      "source": [
        "import pandas as pd\n",
        "\n",
        "review_df = pd.read_csv('/content/drive/MyDrive/ESAA/23-1/labeledTrainData.tsv',header=0, sep=\"\\t\",quoting=3)\n",
        "review_df.head(3)"
      ]
    },
    {
      "cell_type": "markdown",
      "source": [
        "- id : 각 데이터의 id\n",
        "- sentiment : 영화평(review)의 Sentiment 결과 값(Target Label). 1은 긍정적 평가, 0은 부정적 평가를 의미\n",
        "- review : 영화평의 텍스트"
      ],
      "metadata": {
        "id": "KKlUn23A1w0t"
      }
    },
    {
      "cell_type": "code",
      "source": [
        "print(review_df['review'][0])"
      ],
      "metadata": {
        "colab": {
          "base_uri": "https://localhost:8080/"
        },
        "id": "V4JQTOWI1_fM",
        "outputId": "e9416d03-101d-4466-d637-f8bdd2c17ea3"
      },
      "execution_count": 8,
      "outputs": [
        {
          "output_type": "stream",
          "name": "stdout",
          "text": [
            "\"With all this stuff going down at the moment with MJ i've started listening to his music, watching the odd documentary here and there, watched The Wiz and watched Moonwalker again. Maybe i just want to get a certain insight into this guy who i thought was really cool in the eighties just to maybe make up my mind whether he is guilty or innocent. Moonwalker is part biography, part feature film which i remember going to see at the cinema when it was originally released. Some of it has subtle messages about MJ's feeling towards the press and also the obvious message of drugs are bad m'kay.<br /><br />Visually impressive but of course this is all about Michael Jackson so unless you remotely like MJ in anyway then you are going to hate this and find it boring. Some may call MJ an egotist for consenting to the making of this movie BUT MJ and most of his fans would say that he made it for the fans which if true is really nice of him.<br /><br />The actual feature film bit when it finally starts is only on for 20 minutes or so excluding the Smooth Criminal sequence and Joe Pesci is convincing as a psychopathic all powerful drug lord. Why he wants MJ dead so bad is beyond me. Because MJ overheard his plans? Nah, Joe Pesci's character ranted that he wanted people to know it is he who is supplying drugs etc so i dunno, maybe he just hates MJ's music.<br /><br />Lots of cool things in this like MJ turning into a car and a robot and the whole Speed Demon sequence. Also, the director must have had the patience of a saint when it came to filming the kiddy Bad sequence as usually directors hate working with one kid let alone a whole bunch of them performing a complex dance scene.<br /><br />Bottom line, this movie is for people who like MJ on one level or another (which i think is most people). If not, then stay away. It does try and give off a wholesome message and ironically MJ's bestest buddy in this movie is a girl! Michael Jackson is truly one of the most talented people ever to grace this planet but is he guilty? Well, with all the attention i've gave this subject....hmmm well i don't know because people can be different behind closed doors, i know this for a fact. He is either an extremely nice but stupid guy or one of the most sickest liars. I hope he is not the latter.\"\n"
          ]
        }
      ]
    },
    {
      "cell_type": "markdown",
      "source": [
        "- HTML 형식에서 추출해 `<br/>`태그가 여전히 존재\n",
        "- `<br/>`문자열은 피처로 만들 필요가 없으니 삭제\n",
        "- DataFrame/Series는 문자열 연산을 지원하기 위해 str 속성을 이용\n",
        "  - str을 적용하면 다양한 문자열 연산을 수행할 수 있음\n",
        "  - replace()를 str에 적용해 `<br />` 태그를 공백으로 모두 바꿈\n",
        "- 영어가 아닌 숫자/특수문자 역시 Sentiment를 위한 피처로는 별 의미가 없어보이므로 이들도 모두 공란으로 변경\n",
        "  - re모듈, 정규표현식 사용\n",
        "  - `[^a-zA-Z]` : 영어 대/소문자가 아닌 모든 문자를 찾는 것\n",
        "  - `re.sub(\"[^a-zA-Z]\",\"\",x)` : 영어 대/소문자가 아닌 모든 문자를 찾아 공란으로 변경\n"
      ],
      "metadata": {
        "id": "djJ7JShJ2p5R"
      }
    },
    {
      "cell_type": "code",
      "source": [
        "import re\n",
        "\n",
        "#<br> html 태그는 replace 함수로 공백으로 변환\n",
        "review_df['review'] = review_df['review'].str.replace('<br />',' ')\n",
        "\n",
        "#파이썬의 정규 표현식 모듈인 re를 이용해 영어 문자열이 아닌 문자는 모두 공백으로 변환\n",
        "review_df['review'] = review_df['review'].apply(lambda x : re.sub(\"[^a-zA-Z]\",\" \",x))"
      ],
      "metadata": {
        "id": "YB5WXzZU4d8l"
      },
      "execution_count": 9,
      "outputs": []
    },
    {
      "cell_type": "markdown",
      "source": [
        "- 결정값 클래스인 sentiment 칼럼을 별도로 추출해 결정 값 데이터세트를 만들고, 원본 데이터 세트에서 id, sentiment칼럼을 삭제해 피처 데이터 세트 생성\n",
        "- train_test_split()이용해 학습용, 테스트용 데이터 세트로 분리"
      ],
      "metadata": {
        "id": "LPYSVbju6-y7"
      }
    },
    {
      "cell_type": "code",
      "source": [
        "from sklearn.model_selection import train_test_split\n",
        "\n",
        "class_df = review_df['sentiment']\n",
        "feature_df = review_df.drop(['id','sentiment'],axis=1, inplace=False)\n",
        "X_train, X_test, y_train, y_test = train_test_split(feature_df, class_df, test_size=0.3, random_state=156)\n",
        "X_train.shape, X_test.shape"
      ],
      "metadata": {
        "colab": {
          "base_uri": "https://localhost:8080/"
        },
        "id": "usElS85s7L-I",
        "outputId": "5251c2ad-9788-4ec6-df8f-cf928bddf316"
      },
      "execution_count": 10,
      "outputs": [
        {
          "output_type": "execute_result",
          "data": {
            "text/plain": [
              "((17500, 1), (7500, 1))"
            ]
          },
          "metadata": {},
          "execution_count": 10
        }
      ]
    },
    {
      "cell_type": "markdown",
      "source": [
        "- 학습용 데이터는 17500개의 리뷰, 테스트용 데이터는 7500개의 리뷰로 구성되어 있음\n",
        "- 감상평(Review) 텍스트를 피처 벡터화한 후 ML 분류 알고리즘을 적용해 예측 성능을 측정\n"
      ],
      "metadata": {
        "id": "VHsZ1MaP7lZy"
      }
    },
    {
      "cell_type": "code",
      "source": [
        "from sklearn.feature_extraction.text import CountVectorizer, TfidfVectorizer\n",
        "from sklearn.pipeline import Pipeline\n",
        "from sklearn.linear_model import LogisticRegression\n",
        "from sklearn.metrics import accuracy_score, roc_auc_score\n",
        "\n",
        "#스톱 워드는 English, filtering, ngram은 (1,2)로 설정해 CountVectorization 수행\n",
        "#Logistic Regression의 C는 10으로 설정\n",
        "pipeline = Pipeline([\n",
        "    ('cnt_vect',CountVectorizer(stop_words = 'english', ngram_range=(1,2))),\n",
        "    ('lr_clf',LogisticRegression(C=10))])\n",
        "\n",
        "#Pipeline 객체를 이용해 fit(), predict()로 학습/예측 수행, predict_proba()는 roc_auc 때문에 수행\n",
        "pipeline.fit(X_train['review'],y_train)\n",
        "pred = pipeline.predict(X_test['review'])\n",
        "pred_probs = pipeline.predict_proba(X_test['review'])[:,1]\n",
        "\n",
        "print('예측 정확도는 {0:.4f}, ROC-AUC는 {1:.4f}'.format(accuracy_score(y_test,pred),roc_auc_score(y_test,pred_probs)))"
      ],
      "metadata": {
        "colab": {
          "base_uri": "https://localhost:8080/"
        },
        "id": "PlHTVvlC8cLX",
        "outputId": "87bc2deb-5da8-4ca4-fbe8-1c459345e9a3"
      },
      "execution_count": 11,
      "outputs": [
        {
          "output_type": "stream",
          "name": "stderr",
          "text": [
            "/usr/local/lib/python3.10/dist-packages/sklearn/linear_model/_logistic.py:458: ConvergenceWarning: lbfgs failed to converge (status=1):\n",
            "STOP: TOTAL NO. of ITERATIONS REACHED LIMIT.\n",
            "\n",
            "Increase the number of iterations (max_iter) or scale the data as shown in:\n",
            "    https://scikit-learn.org/stable/modules/preprocessing.html\n",
            "Please also refer to the documentation for alternative solver options:\n",
            "    https://scikit-learn.org/stable/modules/linear_model.html#logistic-regression\n",
            "  n_iter_i = _check_optimize_result(\n"
          ]
        },
        {
          "output_type": "stream",
          "name": "stdout",
          "text": [
            "예측 정확도는 0.8860, ROC-AUC는 0.9503\n"
          ]
        }
      ]
    },
    {
      "cell_type": "code",
      "source": [
        "# 스톱 워드는 English, filtering, ngram은 (1,2) 로 설정해 TF-IDF vectorization 수행\n",
        "# LogisticRegression의 C는 10 으로 설정\n",
        "pipeline=Pipeline([\n",
        "    ('tfidf_vect', TfidfVectorizer(stop_words='english', ngram_range=(1,2))),\n",
        "    ('lr_clf', LogisticRegression(C=10))])\n",
        "\n",
        "#Pipeline 객체를 이용해 fit(), predict()로 학습/예측 수행, predict_proba()는 roc_auc 때문에 수행\n",
        "pipeline.fit(X_train['review'], y_train)\n",
        "pred=pipeline.predict(X_test['review'])\n",
        "pred_probs=pipeline.predict_proba(X_test['review'])[:, 1]\n",
        "\n",
        "print('tf idf의 예측 정확도는 {0:.4f}, ROC-AUC는 {1:.4f}'.format(accuracy_score(y_test, pred), roc_auc_score(y_test, pred_probs)))"
      ],
      "metadata": {
        "colab": {
          "base_uri": "https://localhost:8080/"
        },
        "id": "_S6ge8XBpSJ1",
        "outputId": "449e5054-d16b-4d98-f2f2-15a86cf07263"
      },
      "execution_count": 12,
      "outputs": [
        {
          "output_type": "stream",
          "name": "stdout",
          "text": [
            "tf idf의 예측 정확도는 0.8936, ROC-AUC는 0.9598\n"
          ]
        }
      ]
    },
    {
      "cell_type": "markdown",
      "source": [
        "- TF-IDF 기반 피처 벡터화의 예측 성능이 조금 더 나아짐"
      ],
      "metadata": {
        "id": "PXiYyCl0qExI"
      }
    },
    {
      "cell_type": "markdown",
      "source": [
        "###**비지도학습 기반 감성분석 소개**\n",
        "Lexicon을 기반으로 함(레이블값을 가지고 있지 않은 데이터)\n",
        "\n",
        "`Lexicon` : 어휘집을 의미, 감성만을 분석하기 위해 지원하는 감성 어휘 사전, **감성사전**\n",
        "  - **감성 지수(Polarity score)** : 긍정(Positive) 또는 부정(Negative) 감성의 정도를 의미하는 수치\n",
        "    - 단어의 위치나 주변 단어, 문맥, POS(Part of Speech) 등을 참고해 결정\n",
        "    - 대표적으로 NLTK 패키지\n",
        "\n",
        "\n",
        "`WordNet` : NLP에서 제공하는 모듈, 시멘틱 분석을 제공하는 방대한 영어 어휘 사전\n",
        "- **시맨틱** : 문맥상 의미\n",
        "- 상황에 따라, 문맥에 따라, 화자의 몸짓이나 어조에 따라 다르게 해석될 수 있음\n",
        "- NLP 패키지는 시맨틱을 프로그램적으로 인터페이스할 수 있는 다양한 방법을 제공\n",
        "- **Sysnet(Sets of cognitive synonyms)** : 각각의 품사(명사, 동사, 형용사, 부사 등)로 구성된 개별 단어\n",
        "  - 단어가 가지는 문맥, 시맨틱 정보를 제공하는 WordNet의 핵심 개념\n",
        "\n",
        "-> NLTK의 감성 사전이 감성에 대한 훌륭한 사전 역할을 제공한 장점은 인정하나 예측 성능은 그리 좋지 못하다.\n",
        "\n",
        "> **대표적인 감성 사전**\n",
        "- `SentiWordNet` : NLTK 패키지의 WordNet와 유사하게 감성 단어 전용의 WordNet 구현. \n",
        "  - WordNet의 Synset별로 3가지 감성 점수(sentiment score)할당 : 긍정 감성 지수, 부정 감성 지수, 객관성 지수\n",
        "  - 문장별로 단어들의 긍정 감성 지수와 부정 감성 지수를 합산하여 최종 감성 지수를 계산하고 이에 기반해 감성이 긍정인지 부정인지를 결정\n",
        "- `VADER` : 주로 소셜 미디어의 텍스트에 대한 감성 분석을 제공하기 위한 패키지. 뛰어난 감성 분석 결과를 제공하며, 비교적 빠른 수행시간을 보장해 대용량 텍스트 데이터에 잘 사용되는 패키지\n",
        "- `Pattern` : 예측 성능 측면에서 가장 주목받는 패키지. 파이썬 2X버전에서만 동작\n"
      ],
      "metadata": {
        "id": "DnxXJKisqN0j"
      }
    },
    {
      "cell_type": "markdown",
      "source": [
        "###**SentiWordNet을 이용한 감성 분석**\n"
      ],
      "metadata": {
        "id": "ZzMwtk8otr9z"
      }
    },
    {
      "cell_type": "markdown",
      "source": [
        "#### **WordNet Synset과 SentiWordNet SentiSynset클래스의 이해**\n"
      ],
      "metadata": {
        "id": "pejbQ1Xrvtw3"
      }
    },
    {
      "cell_type": "code",
      "source": [
        "import nltk\n",
        "nltk.download('all')"
      ],
      "metadata": {
        "id": "ThQ-08Jjv2QD"
      },
      "execution_count": null,
      "outputs": []
    },
    {
      "cell_type": "markdown",
      "source": [
        "`synsets()` : 파라미터로 지정된 단어에 대해 WordNet에 등재된 모든 Synset 객체를 반환"
      ],
      "metadata": {
        "id": "0J5VKpJPyiFt"
      }
    },
    {
      "cell_type": "code",
      "source": [
        "from nltk.corpus import wordnet as wn\n",
        "\n",
        "term='present'\n",
        "\n",
        "#present라는 단어로 wordnet의 synsets 생성\n",
        "synsets=wn.synsets(term)\n",
        "print('synsets() 반환 type :', type(synsets))\n",
        "print('synsets() 반환 값 개수 :', len(synsets))\n",
        "print('synsets() 반환 값 :', synsets)"
      ],
      "metadata": {
        "colab": {
          "base_uri": "https://localhost:8080/"
        },
        "id": "Ylo7eWDrv894",
        "outputId": "4ddbbc00-759f-4342-d8e9-832d94150842"
      },
      "execution_count": 14,
      "outputs": [
        {
          "output_type": "stream",
          "name": "stdout",
          "text": [
            "synsets() 반환 type : <class 'list'>\n",
            "synsets() 반환 값 개수 : 18\n",
            "synsets() 반환 값 : [Synset('present.n.01'), Synset('present.n.02'), Synset('present.n.03'), Synset('show.v.01'), Synset('present.v.02'), Synset('stage.v.01'), Synset('present.v.04'), Synset('present.v.05'), Synset('award.v.01'), Synset('give.v.08'), Synset('deliver.v.01'), Synset('introduce.v.01'), Synset('portray.v.04'), Synset('confront.v.03'), Synset('present.v.12'), Synset('salute.v.06'), Synset('present.a.01'), Synset('present.a.02')]\n"
          ]
        }
      ]
    },
    {
      "cell_type": "markdown",
      "source": [
        "- 반환되는 것은 여러 개의 Synset 객체를 가지는 리스트\n",
        "- 총 18개의 서로 다른 sementic을 가지는 synset객체 반환\n",
        "- Synset 객체의 파라미터 'present.n.01'은 pos 태그를 나타냄. \n",
        "  - present : 의미, n : 명사 품사, 01 : presen가 명사로서 가지는 의미가 여러가지 있어서 이를 구분하는 인덱스\n",
        "\n",
        "**synset 객체가 가지는 여러 가지 속성**\n",
        "- POS(품사), 정의(Definition), 부명제(Lemma)등"
      ],
      "metadata": {
        "id": "j998aBZ0ysl-"
      }
    },
    {
      "cell_type": "code",
      "source": [
        "for synset in synsets :\n",
        "  print('##### Synset name :', synset.name(), '#####')\n",
        "  print('POS :', synset.lexname())\n",
        "  print('Definition :', synset.definition())\n",
        "  print('Lemmas :', synset.lemma_names())"
      ],
      "metadata": {
        "colab": {
          "base_uri": "https://localhost:8080/"
        },
        "id": "2r5ekCpUwWlk",
        "outputId": "d678f738-821d-4a3e-a46f-ae24eac6d67c"
      },
      "execution_count": 15,
      "outputs": [
        {
          "output_type": "stream",
          "name": "stdout",
          "text": [
            "##### Synset name : present.n.01 #####\n",
            "POS : noun.time\n",
            "Definition : the period of time that is happening now; any continuous stretch of time including the moment of speech\n",
            "Lemmas : ['present', 'nowadays']\n",
            "##### Synset name : present.n.02 #####\n",
            "POS : noun.possession\n",
            "Definition : something presented as a gift\n",
            "Lemmas : ['present']\n",
            "##### Synset name : present.n.03 #####\n",
            "POS : noun.communication\n",
            "Definition : a verb tense that expresses actions or states at the time of speaking\n",
            "Lemmas : ['present', 'present_tense']\n",
            "##### Synset name : show.v.01 #####\n",
            "POS : verb.perception\n",
            "Definition : give an exhibition of to an interested audience\n",
            "Lemmas : ['show', 'demo', 'exhibit', 'present', 'demonstrate']\n",
            "##### Synset name : present.v.02 #####\n",
            "POS : verb.communication\n",
            "Definition : bring forward and present to the mind\n",
            "Lemmas : ['present', 'represent', 'lay_out']\n",
            "##### Synset name : stage.v.01 #####\n",
            "POS : verb.creation\n",
            "Definition : perform (a play), especially on a stage\n",
            "Lemmas : ['stage', 'present', 'represent']\n",
            "##### Synset name : present.v.04 #####\n",
            "POS : verb.possession\n",
            "Definition : hand over formally\n",
            "Lemmas : ['present', 'submit']\n",
            "##### Synset name : present.v.05 #####\n",
            "POS : verb.stative\n",
            "Definition : introduce\n",
            "Lemmas : ['present', 'pose']\n",
            "##### Synset name : award.v.01 #####\n",
            "POS : verb.possession\n",
            "Definition : give, especially as an honor or reward\n",
            "Lemmas : ['award', 'present']\n",
            "##### Synset name : give.v.08 #####\n",
            "POS : verb.possession\n",
            "Definition : give as a present; make a gift of\n",
            "Lemmas : ['give', 'gift', 'present']\n",
            "##### Synset name : deliver.v.01 #####\n",
            "POS : verb.communication\n",
            "Definition : deliver (a speech, oration, or idea)\n",
            "Lemmas : ['deliver', 'present']\n",
            "##### Synset name : introduce.v.01 #####\n",
            "POS : verb.communication\n",
            "Definition : cause to come to know personally\n",
            "Lemmas : ['introduce', 'present', 'acquaint']\n",
            "##### Synset name : portray.v.04 #####\n",
            "POS : verb.creation\n",
            "Definition : represent abstractly, for example in a painting, drawing, or sculpture\n",
            "Lemmas : ['portray', 'present']\n",
            "##### Synset name : confront.v.03 #####\n",
            "POS : verb.communication\n",
            "Definition : present somebody with something, usually to accuse or criticize\n",
            "Lemmas : ['confront', 'face', 'present']\n",
            "##### Synset name : present.v.12 #####\n",
            "POS : verb.communication\n",
            "Definition : formally present a debutante, a representative of a country, etc.\n",
            "Lemmas : ['present']\n",
            "##### Synset name : salute.v.06 #####\n",
            "POS : verb.communication\n",
            "Definition : recognize with a gesture prescribed by a military regulation; assume a prescribed position\n",
            "Lemmas : ['salute', 'present']\n",
            "##### Synset name : present.a.01 #####\n",
            "POS : adj.all\n",
            "Definition : temporal sense; intermediate between past and future; now existing or happening or in consideration\n",
            "Lemmas : ['present']\n",
            "##### Synset name : present.a.02 #####\n",
            "POS : adj.all\n",
            "Definition : being or existing in a specified place\n",
            "Lemmas : ['present']\n"
          ]
        }
      ]
    },
    {
      "cell_type": "markdown",
      "source": [
        "- Synset('present.n.01') 과 Synset('present.n.02')는 서로 다른 의미를 가짐\n",
        "  - Synset('present.n.01') = 시간적인 의미로 현재\n",
        "  - Synset('present.n.02') = 관객에게 전시물 등을 보여주다\n",
        "\n",
        "\n",
        "**WordNet은 어떤 어휘와 다른 어휘 간의 관계를 유사도로 나타냄** : `path_similarity()`"
      ],
      "metadata": {
        "id": "02IOjXhszzOg"
      }
    },
    {
      "cell_type": "code",
      "source": [
        "#tree, lion, tiger, cat, dog 라는 단어 간의 상호 유사도를 살펴보자\n",
        "\n",
        "#synset 객체를 단어별로 생성\n",
        "tree=wn.synset('tree.n.01')\n",
        "lion=wn.synset('lion.n.01')\n",
        "tiger=wn.synset('tiger.n.02')\n",
        "cat=wn.synset('cat.n.01')\n",
        "dog=wn.synset('dog.n.01')\n",
        "\n",
        "entities=[tree, lion, tiger, cat, dog]\n",
        "similarities=[]\n",
        "entity_names=[entity.name().split('.')[0] for entity in entities]\n",
        "\n",
        "#단어별 synset을 반복하며 다른 단어의 synset과 유사도를 측정\n",
        "for entity in entities:\n",
        "  similarity=[round(entity.path_similarity(compared_entity), 2) for compared_entity in entities]\n",
        "  similarities.append(similarity)\n",
        "\n",
        "#개별 단어별 synset과 다른 단어의 synset과의 유사도를 DF 형태로 저장\n",
        "similarity_df=pd.DataFrame(similarities, columns=entity_names, index=entity_names)\n",
        "similarity_df"
      ],
      "metadata": {
        "colab": {
          "base_uri": "https://localhost:8080/",
          "height": 206
        },
        "id": "EveFWvspwdcU",
        "outputId": "07d8482b-28e8-4ec1-e421-ee0ab1414bfe"
      },
      "execution_count": 16,
      "outputs": [
        {
          "output_type": "execute_result",
          "data": {
            "text/plain": [
              "       tree  lion  tiger   cat   dog\n",
              "tree   1.00  0.07   0.07  0.08  0.12\n",
              "lion   0.07  1.00   0.33  0.25  0.17\n",
              "tiger  0.07  0.33   1.00  0.25  0.17\n",
              "cat    0.08  0.25   0.25  1.00  0.20\n",
              "dog    0.12  0.17   0.17  0.20  1.00"
            ],
            "text/html": [
              "\n",
              "  <div id=\"df-26c3a9f8-c42c-42e0-b9d4-979530584dce\">\n",
              "    <div class=\"colab-df-container\">\n",
              "      <div>\n",
              "<style scoped>\n",
              "    .dataframe tbody tr th:only-of-type {\n",
              "        vertical-align: middle;\n",
              "    }\n",
              "\n",
              "    .dataframe tbody tr th {\n",
              "        vertical-align: top;\n",
              "    }\n",
              "\n",
              "    .dataframe thead th {\n",
              "        text-align: right;\n",
              "    }\n",
              "</style>\n",
              "<table border=\"1\" class=\"dataframe\">\n",
              "  <thead>\n",
              "    <tr style=\"text-align: right;\">\n",
              "      <th></th>\n",
              "      <th>tree</th>\n",
              "      <th>lion</th>\n",
              "      <th>tiger</th>\n",
              "      <th>cat</th>\n",
              "      <th>dog</th>\n",
              "    </tr>\n",
              "  </thead>\n",
              "  <tbody>\n",
              "    <tr>\n",
              "      <th>tree</th>\n",
              "      <td>1.00</td>\n",
              "      <td>0.07</td>\n",
              "      <td>0.07</td>\n",
              "      <td>0.08</td>\n",
              "      <td>0.12</td>\n",
              "    </tr>\n",
              "    <tr>\n",
              "      <th>lion</th>\n",
              "      <td>0.07</td>\n",
              "      <td>1.00</td>\n",
              "      <td>0.33</td>\n",
              "      <td>0.25</td>\n",
              "      <td>0.17</td>\n",
              "    </tr>\n",
              "    <tr>\n",
              "      <th>tiger</th>\n",
              "      <td>0.07</td>\n",
              "      <td>0.33</td>\n",
              "      <td>1.00</td>\n",
              "      <td>0.25</td>\n",
              "      <td>0.17</td>\n",
              "    </tr>\n",
              "    <tr>\n",
              "      <th>cat</th>\n",
              "      <td>0.08</td>\n",
              "      <td>0.25</td>\n",
              "      <td>0.25</td>\n",
              "      <td>1.00</td>\n",
              "      <td>0.20</td>\n",
              "    </tr>\n",
              "    <tr>\n",
              "      <th>dog</th>\n",
              "      <td>0.12</td>\n",
              "      <td>0.17</td>\n",
              "      <td>0.17</td>\n",
              "      <td>0.20</td>\n",
              "      <td>1.00</td>\n",
              "    </tr>\n",
              "  </tbody>\n",
              "</table>\n",
              "</div>\n",
              "      <button class=\"colab-df-convert\" onclick=\"convertToInteractive('df-26c3a9f8-c42c-42e0-b9d4-979530584dce')\"\n",
              "              title=\"Convert this dataframe to an interactive table.\"\n",
              "              style=\"display:none;\">\n",
              "        \n",
              "  <svg xmlns=\"http://www.w3.org/2000/svg\" height=\"24px\"viewBox=\"0 0 24 24\"\n",
              "       width=\"24px\">\n",
              "    <path d=\"M0 0h24v24H0V0z\" fill=\"none\"/>\n",
              "    <path d=\"M18.56 5.44l.94 2.06.94-2.06 2.06-.94-2.06-.94-.94-2.06-.94 2.06-2.06.94zm-11 1L8.5 8.5l.94-2.06 2.06-.94-2.06-.94L8.5 2.5l-.94 2.06-2.06.94zm10 10l.94 2.06.94-2.06 2.06-.94-2.06-.94-.94-2.06-.94 2.06-2.06.94z\"/><path d=\"M17.41 7.96l-1.37-1.37c-.4-.4-.92-.59-1.43-.59-.52 0-1.04.2-1.43.59L10.3 9.45l-7.72 7.72c-.78.78-.78 2.05 0 2.83L4 21.41c.39.39.9.59 1.41.59.51 0 1.02-.2 1.41-.59l7.78-7.78 2.81-2.81c.8-.78.8-2.07 0-2.86zM5.41 20L4 18.59l7.72-7.72 1.47 1.35L5.41 20z\"/>\n",
              "  </svg>\n",
              "      </button>\n",
              "      \n",
              "  <style>\n",
              "    .colab-df-container {\n",
              "      display:flex;\n",
              "      flex-wrap:wrap;\n",
              "      gap: 12px;\n",
              "    }\n",
              "\n",
              "    .colab-df-convert {\n",
              "      background-color: #E8F0FE;\n",
              "      border: none;\n",
              "      border-radius: 50%;\n",
              "      cursor: pointer;\n",
              "      display: none;\n",
              "      fill: #1967D2;\n",
              "      height: 32px;\n",
              "      padding: 0 0 0 0;\n",
              "      width: 32px;\n",
              "    }\n",
              "\n",
              "    .colab-df-convert:hover {\n",
              "      background-color: #E2EBFA;\n",
              "      box-shadow: 0px 1px 2px rgba(60, 64, 67, 0.3), 0px 1px 3px 1px rgba(60, 64, 67, 0.15);\n",
              "      fill: #174EA6;\n",
              "    }\n",
              "\n",
              "    [theme=dark] .colab-df-convert {\n",
              "      background-color: #3B4455;\n",
              "      fill: #D2E3FC;\n",
              "    }\n",
              "\n",
              "    [theme=dark] .colab-df-convert:hover {\n",
              "      background-color: #434B5C;\n",
              "      box-shadow: 0px 1px 3px 1px rgba(0, 0, 0, 0.15);\n",
              "      filter: drop-shadow(0px 1px 2px rgba(0, 0, 0, 0.3));\n",
              "      fill: #FFFFFF;\n",
              "    }\n",
              "  </style>\n",
              "\n",
              "      <script>\n",
              "        const buttonEl =\n",
              "          document.querySelector('#df-26c3a9f8-c42c-42e0-b9d4-979530584dce button.colab-df-convert');\n",
              "        buttonEl.style.display =\n",
              "          google.colab.kernel.accessAllowed ? 'block' : 'none';\n",
              "\n",
              "        async function convertToInteractive(key) {\n",
              "          const element = document.querySelector('#df-26c3a9f8-c42c-42e0-b9d4-979530584dce');\n",
              "          const dataTable =\n",
              "            await google.colab.kernel.invokeFunction('convertToInteractive',\n",
              "                                                     [key], {});\n",
              "          if (!dataTable) return;\n",
              "\n",
              "          const docLinkHtml = 'Like what you see? Visit the ' +\n",
              "            '<a target=\"_blank\" href=https://colab.research.google.com/notebooks/data_table.ipynb>data table notebook</a>'\n",
              "            + ' to learn more about interactive tables.';\n",
              "          element.innerHTML = '';\n",
              "          dataTable['output_type'] = 'display_data';\n",
              "          await google.colab.output.renderOutput(dataTable, element);\n",
              "          const docLink = document.createElement('div');\n",
              "          docLink.innerHTML = docLinkHtml;\n",
              "          element.appendChild(docLink);\n",
              "        }\n",
              "      </script>\n",
              "    </div>\n",
              "  </div>\n",
              "  "
            ]
          },
          "metadata": {},
          "execution_count": 16
        }
      ]
    },
    {
      "cell_type": "markdown",
      "source": [
        "- lion은 tree 와의 유사도가 0.07로 가장 적고, tiger와는 유사도가 0.33으로 가장 큼\n",
        "\n",
        "**SentiWordNet - Senti_Synset**\n",
        "\n",
        "`senti_synsets()` : WordNet 모듈로 synsets()와 비슷하게 Senti_Synset 클래스를 리스트 형태로 반환"
      ],
      "metadata": {
        "id": "HSDE4GhK0SVU"
      }
    },
    {
      "cell_type": "code",
      "source": [
        "import nltk\n",
        "from nltk.corpus import sentiwordnet as swn\n",
        "\n",
        "senti_synsets=list(swn.senti_synsets('slow'))\n",
        "print('senti_synsets() 반환 type :', type(senti_synsets))\n",
        "print('senti_synsets() 반환 값 개수 :', len(senti_synsets))\n",
        "print('senti_synsets() 반환 값 :', senti_synsets)"
      ],
      "metadata": {
        "colab": {
          "base_uri": "https://localhost:8080/"
        },
        "id": "tubgkab8wh_h",
        "outputId": "d79deed0-3eef-4080-8655-5a0a556e8904"
      },
      "execution_count": 17,
      "outputs": [
        {
          "output_type": "stream",
          "name": "stdout",
          "text": [
            "senti_synsets() 반환 type : <class 'list'>\n",
            "senti_synsets() 반환 값 개수 : 11\n",
            "senti_synsets() 반환 값 : [SentiSynset('decelerate.v.01'), SentiSynset('slow.v.02'), SentiSynset('slow.v.03'), SentiSynset('slow.a.01'), SentiSynset('slow.a.02'), SentiSynset('dense.s.04'), SentiSynset('slow.a.04'), SentiSynset('boring.s.01'), SentiSynset('dull.s.08'), SentiSynset('slowly.r.01'), SentiSynset('behind.r.03')]\n"
          ]
        }
      ]
    },
    {
      "cell_type": "markdown",
      "source": [
        "SentiSynset 객체 : 단어의 감성을 나타내는 감성지수와 객관성을 나타내는 객관성지수(감성과 반대)를 가짐\n",
        "- 감성적이지 않으면 객관성 지수는 1, 감성지수는 0"
      ],
      "metadata": {
        "id": "rRsE_94_03M0"
      }
    },
    {
      "cell_type": "code",
      "source": [
        "#father 와 fabulous 라는 두개 단어의 감성 지수와 객관성 지수\n",
        "\n",
        "import nltk\n",
        "from nltk.corpus import sentiwordnet as swn\n",
        "\n",
        "father=swn.senti_synset('father.n.01')\n",
        "print('father 긍정 감성 지수 :', father.pos_score())\n",
        "print('father 부정 감성 지수 :', father.neg_score())\n",
        "print('father 객관성 지수 :', father.obj_score())\n",
        "print('\\n')\n",
        "fabulous=swn.senti_synset('fabulous.a.01')\n",
        "print('fabulous 긍정 감성 지수 :', fabulous.pos_score())\n",
        "print('fabulous 부정 감성 지수 :', fabulous.neg_score())\n",
        "print('fabulous 객관관성 지수 :', fabulous.obj_score())"
      ],
      "metadata": {
        "colab": {
          "base_uri": "https://localhost:8080/"
        },
        "id": "IZgRG0BZwka7",
        "outputId": "eec92320-d0c5-4e2a-d98a-caf249939f5d"
      },
      "execution_count": 18,
      "outputs": [
        {
          "output_type": "stream",
          "name": "stdout",
          "text": [
            "father 긍정 감성 지수 : 0.0\n",
            "father 부정 감성 지수 : 0.0\n",
            "father 객관성 지수 : 1.0\n",
            "\n",
            "\n",
            "fabulous 긍정 감성 지수 : 0.875\n",
            "fabulous 부정 감성 지수 : 0.125\n",
            "fabulous 객관관성 지수 : 0.0\n"
          ]
        }
      ]
    },
    {
      "cell_type": "markdown",
      "source": [
        "- father는 객관적인 단어로 객관성 지수가 1.0, 긍정/부정 감성 지수 모두 0\n",
        "- fabulous는 감성 단어로서 긍정 감성 지수가 0.875, 부정 감성 지수가 0.125"
      ],
      "metadata": {
        "id": "C2hnKWxb1V3T"
      }
    },
    {
      "cell_type": "markdown",
      "source": [
        "#### **SentiWordNet을 이용한 영화 감상평 감성 분석**\n",
        "IMDB 영화 감상평 감성 분석\n",
        "1. 문서(Document)를 문장(Sentence) 단위로 분해\n",
        "2. 다시 문장을 단어(Word) 단위로 토큰화하고 품사 태깅\n",
        "3. 품사 태깅된 단어 기반으로 sysnet 객체와 senti_synset 객체를 생성\n",
        "4. Senti_sysnet에서 긍정 감성/부정 감성 지수를 구하고 이를 모두 합산해 특정 임계치 값 이상일 때 긍정 감성으로, 그렇지 않을 때는 부정 감성으로 결정\n",
        "\n",
        "SentiWordNet 이용하기 위해 WordNet을 이용해 문서를 다시 단어로 토큰화한 뒤 어근 추출(Lemmatization)과 품사 태깅(POS Tagging) 적용해야 함\n",
        "- 품사 태깅을 진행하는 내부 함수 생성\n"
      ],
      "metadata": {
        "id": "g6IoGecdwnHk"
      }
    },
    {
      "cell_type": "code",
      "source": [
        "#품사 태깅을 진행하는 내부 함수 생성\n",
        "\n",
        "from nltk.corpus import wordnet as wn\n",
        "\n",
        "#간단한 NTLK PennTreebank Tag를 기반으로 WordNet 기반의 품사 Tag로 변환\n",
        "def penn_to_wn(tag):\n",
        "  if tag.startswith('J'):\n",
        "    return wn.ADJ\n",
        "  elif tag.startswith('N'):\n",
        "    return wn.NOUN\n",
        "  elif tag.startswith(\"R\"):\n",
        "    return wn.ADV\n",
        "  elif tag.startswith('V'):\n",
        "    return wn.VERB\n",
        "  return"
      ],
      "metadata": {
        "id": "hjOc7gnCxW9o"
      },
      "execution_count": 19,
      "outputs": []
    },
    {
      "cell_type": "markdown",
      "source": [
        "- 문서를 문장 -> 단어 토큰 -> 품사 태깅 후에 SentiSynset 클래스를 생성하고 Polarity Score를 합산하는 함수 생성\n",
        "  - 각 단어의 긍정 감성 지수와 부정 감성 지수를 모두 합한 총 감성 지수가 0 이상일 경우 긍정 감성, 그렇지 않을 경우 부정 감성으로 예측"
      ],
      "metadata": {
        "id": "Tkc1-cPK1kng"
      }
    },
    {
      "cell_type": "code",
      "source": [
        "#문서를 문장 -> 단어 토큰 -> 품사 태깅 후에 SentiSynset 클래스를 생성하고 Polarity Score를 합산하는 함수 생성\n",
        "from nltk.stem import WordNetLemmatizer\n",
        "from nltk.corpus import sentiwordnet as swn\n",
        "from nltk import sent_tokenize, word_tokenize, pos_tag\n",
        "\n",
        "def swn_polarity(text):\n",
        "    #감성 지수 초기화 \n",
        "    sentiment=0.0\n",
        "    tokens_count=0\n",
        "    \n",
        "    lemmatizer=WordNetLemmatizer()\n",
        "    raw_sentences=sent_tokenize(text)\n",
        "    #분해된 문장별로 단어 토큰 -> 품사 태깅 후에 SentiSynset 생성 -> 감성 지수 합산 \n",
        "    for raw_sentence in raw_sentences:\n",
        "        #NLTK 기반의 품사 태깅 문장 추출  \n",
        "        tagged_sentence=pos_tag(word_tokenize(raw_sentence))\n",
        "        for word, tag in tagged_sentence:\n",
        "            \n",
        "            # WordNet 기반 품사 태깅과 어근 추출\n",
        "            wn_tag=penn_to_wn(tag)\n",
        "            if wn_tag not in (wn.NOUN , wn.ADJ, wn.ADV):\n",
        "                continue                   \n",
        "            lemma=lemmatizer.lemmatize(word, pos=wn_tag)\n",
        "            if not lemma:\n",
        "                continue\n",
        "            # 어근을 추출한 단어와 WordNet 기반 품사 태깅을 입력해 Synset 객체를 생성. \n",
        "            synsets=wn.synsets(lemma , pos=wn_tag)\n",
        "            if not synsets:\n",
        "                continue\n",
        "            # sentiwordnet의 감성 단어 분석으로 감성 synset 추출\n",
        "            # 모든 단어에 대해 긍정 감성 지수는 +로 부정 감성 지수는 -로 합산해 감성 지수 계산. \n",
        "            synset=synsets[0]\n",
        "            swn_synset=swn.senti_synset(synset.name())\n",
        "            sentiment += (swn_synset.pos_score()-swn_synset.neg_score())           \n",
        "            tokens_count += 1\n",
        "    \n",
        "    if not tokens_count:\n",
        "        return 0\n",
        "    \n",
        "    # 총 score가 0 이상일 경우 긍정(Positive) 1, 그렇지 않을 경우 부정(Negative) 0 반환\n",
        "    if sentiment >= 0:\n",
        "        return 1\n",
        "    \n",
        "    return 0"
      ],
      "metadata": {
        "id": "3tjSHPs0xbn3"
      },
      "execution_count": 20,
      "outputs": []
    },
    {
      "cell_type": "markdown",
      "source": [
        "- 개별 감상평 텍스트에 적용"
      ],
      "metadata": {
        "id": "fjUvs_eH2jPR"
      }
    },
    {
      "cell_type": "code",
      "source": [
        "review_df['preds']=review_df['review'].apply(lambda x: swn_polarity(x))\n",
        "y_target=review_df['sentiment'].values\n",
        "preds=review_df['preds'].values"
      ],
      "metadata": {
        "id": "dTwWQodQxmv9"
      },
      "execution_count": 22,
      "outputs": []
    },
    {
      "cell_type": "code",
      "source": [
        "review_df['preds'].value_counts()"
      ],
      "metadata": {
        "colab": {
          "base_uri": "https://localhost:8080/"
        },
        "id": "xA1Nwy7PxpEe",
        "outputId": "782858b6-cbbc-44bb-9b88-1e79a889ee79"
      },
      "execution_count": 23,
      "outputs": [
        {
          "output_type": "execute_result",
          "data": {
            "text/plain": [
              "1    13696\n",
              "0    11304\n",
              "Name: preds, dtype: int64"
            ]
          },
          "metadata": {},
          "execution_count": 23
        }
      ]
    },
    {
      "cell_type": "code",
      "source": [
        "from sklearn.metrics import accuracy_score, confusion_matrix, precision_score\n",
        "from sklearn.metrics import recall_score, f1_score, roc_auc_score\n",
        "import numpy as np\n",
        "\n",
        "print(confusion_matrix(y_target, preds))\n",
        "print('정확도 :', np.round(accuracy_score(y_target, preds), 4))\n",
        "print('정밀도 :', np.round(precision_score(y_target, preds), 4))\n",
        "print('재현율 :', np.round(recall_score(y_target, preds), 4))"
      ],
      "metadata": {
        "colab": {
          "base_uri": "https://localhost:8080/"
        },
        "id": "2Wr2Tos9xq2O",
        "outputId": "87375076-800e-4e18-e4af-f98604d1c7e8"
      },
      "execution_count": 24,
      "outputs": [
        {
          "output_type": "stream",
          "name": "stdout",
          "text": [
            "[[7668 4832]\n",
            " [3636 8864]]\n",
            "정확도 : 0.6613\n",
            "정밀도 : 0.6472\n",
            "재현율 : 0.7091\n"
          ]
        }
      ]
    },
    {
      "cell_type": "markdown",
      "source": [
        "- 정확도가 약 66.13%, 재현율이 약 70.91%\n",
        "- 정확도 지표를 포함한 전반적인 성능 평가 지표는 만족스러울만한 수치는 아님\n",
        "- SentiWordNet은 WordNet의 하위 모듈로서 감성 분석을 위한 다양한 프레임워크 제공"
      ],
      "metadata": {
        "id": "DUSBVK3F2rjF"
      }
    },
    {
      "cell_type": "markdown",
      "source": [
        "###**VADER를 이용한 감성 분석**\n",
        "VADER Lexicon : 소셜 미디어의 감성 분석 용도로 만들어진 룰 기반의 Lexicon\n",
        "- SentimentIntensityAnalyzer 클래스를 이용해 쉽게 감성 분석을 제공\n",
        "- NLTK 패키지의 서브 모듈로 제공될 수도 있고 단독 패키지로 제공될 수도 있음\n",
        "  - SentimentIntensityAnalyzer 임포트\n",
        "  - 단독 패키지의 경우 \n",
        "    - `pip install vaderSentiment`\n",
        "    - `from vaderSentiment.vaderSentiment import SentimentIntensityAnalyzer`"
      ],
      "metadata": {
        "id": "ALzQnUFYxsza"
      }
    },
    {
      "cell_type": "code",
      "source": [
        "from nltk.sentiment.vader import SentimentIntensityAnalyzer\n",
        "\n",
        "senti_analyzer=SentimentIntensityAnalyzer()\n",
        "senti_scores=senti_analyzer.polarity_scores(review_df['review'][0])\n",
        "print(senti_scores)"
      ],
      "metadata": {
        "colab": {
          "base_uri": "https://localhost:8080/"
        },
        "id": "mM_N6soexvd9",
        "outputId": "5ff5ca18-a0e1-4e97-d9f4-2787b9f55dcb"
      },
      "execution_count": 25,
      "outputs": [
        {
          "output_type": "stream",
          "name": "stdout",
          "text": [
            "{'neg': 0.13, 'neu': 0.743, 'pos': 0.127, 'compound': -0.7943}\n"
          ]
        }
      ]
    },
    {
      "cell_type": "markdown",
      "source": [
        "- SentimentIntensityAnalyzer 객체를 생성한 뒤 문서별로 `polarity_scores()` 메서드를 호출해 감성 점수를 구한 뒤, 해당 문서의 감성 점수가 특정 임계값 이상이면 긍정, 그렇지 않으면 부정으로 판단\n",
        "  - `polarity_scores()` : 딕셔너리 형태의 감성 점수를 반환\n",
        "    - `neg` : 부정\n",
        "    - `neu` : 중립\n",
        "    - `pos` : 긍정\n",
        "    - `compound` : neg, neu, pos score 적절히 조합해 -1~1 사이의 감성 지수 표현\n",
        "      - 보통 0.1 이상이면 긍정 감성, 그 이하이면 부정 감성으로 판단하나 상황에 따라 임계값 조정 가능\n",
        "\n"
      ],
      "metadata": {
        "id": "zErO-nHO3hle"
      }
    },
    {
      "cell_type": "markdown",
      "source": [
        "**VADER 이용한 IMDB 감성 분석**\n",
        "- `vader_polarity()` : 입력 파라미터로 영화 감상평 텍스트와 긍/부정을 결정하는 임계값을 가짐\n",
        "  - SentimentIntensityAnalyzer 객체의 polarity_scores()메서드를 호출해 감성 결과를 반환\n",
        "  - apply lambda 식을 이용해 vader_polarity() 함수를 호출해 각 문서별로 감성 결과를 저장, 예측 성능 측정"
      ],
      "metadata": {
        "id": "TI6DMr-N4OJQ"
      }
    },
    {
      "cell_type": "code",
      "source": [
        "def vader_polarity(review, threshold=0.1):\n",
        "  analyzer=SentimentIntensityAnalyzer()\n",
        "  scores=analyzer.polarity_scores(review)\n",
        "\n",
        "  #compound 값에 기반해 threshold 입력값보다 크면 1, 그렇지 않으면 0을 반환\n",
        "  agg_score=scores['compound']\n",
        "  final_sentiment=1 if agg_score>=threshold else 0\n",
        "  return final_sentiment\n",
        "\n",
        "#apply lambda 식을 이용해 레코드별로 vader_polarity()를 수행하고 결과를 'vader_preds'에 저장\n",
        "review_df['vader_preds']=review_df['review'].apply(lambda x:vader_polarity(x, 0.1))\n",
        "y_target=review_df['sentiment'].values\n",
        "vader_preds=review_df['vader_preds'].values\n",
        "\n",
        "print(confusion_matrix(y_target, vader_preds))\n",
        "print('정확도 :', np.round(accuracy_score(y_target, vader_preds), 4))\n",
        "print('정밀도 :', np.round(precision_score(y_target, vader_preds), 4))\n",
        "print('재현율 :', np.round(recall_score(y_target, vader_preds), 4))  "
      ],
      "metadata": {
        "colab": {
          "base_uri": "https://localhost:8080/"
        },
        "id": "_U-GTjXTxxQu",
        "outputId": "e446e94b-5520-482a-f6cf-9beb0e8139f4"
      },
      "execution_count": 26,
      "outputs": [
        {
          "output_type": "stream",
          "name": "stdout",
          "text": [
            "[[ 6747  5753]\n",
            " [ 1858 10642]]\n",
            "정확도 : 0.6956\n",
            "정밀도 : 0.6491\n",
            "재현율 : 0.8514\n"
          ]
        }
      ]
    },
    {
      "cell_type": "markdown",
      "source": [
        "- 정확도가 SentiWordNet보다 향상되었고, 재현율은 85.68%로 매우 크게 향상됨\n",
        "\n",
        "---\n",
        "- 이외에도 뛰어난 감성 사전으로 pattern 패키지가 있음\n",
        "- 감성 사전을 이용한 감성 분석 예측 성능은 지도학습 분류 기반 예측 성능에 비해 아직 낮은 수준이지만 결정 클래스 값이 없는 상황을 고려한다면 예측 성능에 일정 수준 만족할 수 있음"
      ],
      "metadata": {
        "id": "KzPZ5Z9y4oKK"
      }
    }
  ]
}